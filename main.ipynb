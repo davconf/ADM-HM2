{
  "nbformat": 4,
  "nbformat_minor": 0,
  "metadata": {
    "colab": {
      "provenance": [],
      "mount_file_id": "1XawSYSYlACWkYSUlASfwkrebGogi3TTD",
      "authorship_tag": "ABX9TyPXADxRBheLfnAwgKuz1OsR"
    },
    "kernelspec": {
      "name": "python3",
      "display_name": "Python 3"
    },
    "language_info": {
      "name": "python"
    }
  },
  "cells": [
    {
      "cell_type": "markdown",
      "source": [
        "# Before starting & [RQ 1]"
      ],
      "metadata": {
        "id": "i4dkKUBYvAHJ"
      }
    },
    {
      "cell_type": "markdown",
      "source": [
        "## Libraries import"
      ],
      "metadata": {
        "id": "GwUb7r6S7t7c"
      }
    },
    {
      "cell_type": "code",
      "source": [
        "import pandas as pd\n",
        "import random\n",
        "import matplotlib.pyplot as plt\n",
        "import seaborn as sns\n",
        "from scipy.stats import spearmanr"
      ],
      "metadata": {
        "id": "E0j9A3TX715I"
      },
      "execution_count": 1,
      "outputs": []
    },
    {
      "cell_type": "markdown",
      "source": [
        "## Get the dataset (from Kaggle)"
      ],
      "metadata": {
        "id": "xcif-LwAvd2M"
      }
    },
    {
      "cell_type": "markdown",
      "source": [
        "First of all, we need to get the steam-reviews-2021.csv file from Kaggle"
      ],
      "metadata": {
        "id": "bb-pmZK7vxsU"
      }
    },
    {
      "cell_type": "code",
      "execution_count": 2,
      "metadata": {
        "colab": {
          "base_uri": "https://localhost:8080/"
        },
        "id": "HNrJRgpnSaPW",
        "outputId": "872135dc-9fef-43cd-f2b6-66e89b9837c8"
      },
      "outputs": [
        {
          "output_type": "stream",
          "name": "stdout",
          "text": [
            "Dataset URL: https://www.kaggle.com/datasets/najzeko/steam-reviews-2021\n",
            "License(s): GPL-2.0\n",
            "Downloading steam-reviews-2021.zip to /content\n",
            " 99% 2.96G/2.97G [00:40<00:00, 119MB/s]\n",
            "100% 2.97G/2.97G [00:40<00:00, 78.6MB/s]\n"
          ]
        }
      ],
      "source": [
        "# Downloads the \"steam-reviews-2021\" dataset from Kaggle\n",
        "!kaggle datasets download najzeko/steam-reviews-2021"
      ]
    },
    {
      "cell_type": "markdown",
      "source": [
        "Then we have to unzip the .zip file"
      ],
      "metadata": {
        "id": "s1YVvG0gv-Ju"
      }
    },
    {
      "cell_type": "code",
      "source": [
        "!unzip '/content/steam-reviews-2021.zip'"
      ],
      "metadata": {
        "colab": {
          "base_uri": "https://localhost:8080/"
        },
        "id": "2KfxZaM5VxP2",
        "outputId": "123f2127-d455-416a-8a19-5c953ba2486d"
      },
      "execution_count": 3,
      "outputs": [
        {
          "output_type": "stream",
          "name": "stdout",
          "text": [
            "Archive:  /content/steam-reviews-2021.zip\n",
            "  inflating: steam_reviews.csv       \n"
          ]
        }
      ]
    },
    {
      "cell_type": "markdown",
      "source": [
        "## Considerations about the dataset import in a Pandas DataFrame"
      ],
      "metadata": {
        "id": "znaqMJ7G1mVe"
      }
    },
    {
      "cell_type": "markdown",
      "source": [
        "We define the filepath of the unzipped dataset"
      ],
      "metadata": {
        "id": "PPYIvMlSt3ZF"
      }
    },
    {
      "cell_type": "code",
      "source": [
        "dataset_filepath = '/content/steam_reviews.csv'"
      ],
      "metadata": {
        "id": "IizOQIpcp6NM"
      },
      "execution_count": 4,
      "outputs": []
    },
    {
      "cell_type": "markdown",
      "source": [
        "Due to the large dimension of the dataset (more than 8 GB, 22 millions or raws, 23 columns), using a standard CPU processor in Google Colaboratory, we would not have the resources needed to import our dataset into a Pandas DataFrame with a simple use of the read_csv() function, like the one below:\n",
        "```\n",
        "dataframe = pd.read_csv(dataset_filepath)\n",
        "```\n",
        "\n",
        "Incidentally, we could successfully execute the above command using a TPU processor, available in Google Colaboratory. This process would take about 2-3 minutes and would require approximately 17 GB of RAM.\n",
        "\n",
        "Assuming, however, that the task was designed to test us under more \"conventional\" conditions, we will import the dataset using a chunk approach (like in the dafult configuration in Google Colaboratory), by dividing the original dataset into smaller pieces of the dataset, using the least possible amount of data in carrying out our analyses."
      ],
      "metadata": {
        "id": "cIpHifLBqhh9"
      }
    },
    {
      "cell_type": "markdown",
      "source": [
        "We create a first \"little\" DataFrame importing just a portion of the total raws in order to:\n",
        "\n",
        "*   make an initial exploration of the dataset\n",
        "*   defining a more efficient management of data types that we will import later\n"
      ],
      "metadata": {
        "id": "yTCJEABRkkDK"
      }
    },
    {
      "cell_type": "code",
      "source": [
        "df_first_raws = pd.read_csv(dataset_filepath, nrows=1000000)"
      ],
      "metadata": {
        "id": "hUHJPih98g_s"
      },
      "execution_count": 5,
      "outputs": []
    },
    {
      "cell_type": "markdown",
      "source": [
        "We make an initial exploration of this first DataFrame"
      ],
      "metadata": {
        "id": "YqdFWdxUDWYV"
      }
    },
    {
      "cell_type": "code",
      "source": [
        "# Display the dataset info()\n",
        "df_first_raws.info()\n",
        "\n",
        "# Display the first 5 rows\n",
        "print(\"First 5 rows of the dataset:\")\n",
        "print(df_first_raws.head().to_markdown(index=False, numalign=\"left\", stralign=\"left\", tablefmt=\"grid\"))\n",
        "\n",
        "# Generate descriptive statistics for numerical columns\n",
        "print(\"\\nDescriptive statistics:\")\n",
        "print(df_first_raws.describe().to_markdown(numalign=\"left\", stralign=\"left\", tablefmt=\"grid\"))"
      ],
      "metadata": {
        "colab": {
          "base_uri": "https://localhost:8080/"
        },
        "id": "GudE4_w6CZP-",
        "outputId": "6e4ecc6c-c257-46c5-9380-0d98702fdc9a"
      },
      "execution_count": 6,
      "outputs": [
        {
          "output_type": "stream",
          "name": "stdout",
          "text": [
            "<class 'pandas.core.frame.DataFrame'>\n",
            "RangeIndex: 1000000 entries, 0 to 999999\n",
            "Data columns (total 23 columns):\n",
            " #   Column                          Non-Null Count    Dtype  \n",
            "---  ------                          --------------    -----  \n",
            " 0   Unnamed: 0                      1000000 non-null  int64  \n",
            " 1   app_id                          1000000 non-null  int64  \n",
            " 2   app_name                        1000000 non-null  object \n",
            " 3   review_id                       1000000 non-null  int64  \n",
            " 4   language                        1000000 non-null  object \n",
            " 5   review                          998242 non-null   object \n",
            " 6   timestamp_created               1000000 non-null  int64  \n",
            " 7   timestamp_updated               1000000 non-null  int64  \n",
            " 8   recommended                     1000000 non-null  bool   \n",
            " 9   votes_helpful                   1000000 non-null  int64  \n",
            " 10  votes_funny                     1000000 non-null  int64  \n",
            " 11  weighted_vote_score             1000000 non-null  float64\n",
            " 12  comment_count                   1000000 non-null  int64  \n",
            " 13  steam_purchase                  1000000 non-null  bool   \n",
            " 14  received_for_free               1000000 non-null  bool   \n",
            " 15  written_during_early_access     1000000 non-null  bool   \n",
            " 16  author.steamid                  1000000 non-null  int64  \n",
            " 17  author.num_games_owned          1000000 non-null  int64  \n",
            " 18  author.num_reviews              1000000 non-null  int64  \n",
            " 19  author.playtime_forever         1000000 non-null  float64\n",
            " 20  author.playtime_last_two_weeks  1000000 non-null  float64\n",
            " 21  author.playtime_at_review       997686 non-null   float64\n",
            " 22  author.last_played              1000000 non-null  float64\n",
            "dtypes: bool(4), float64(5), int64(11), object(3)\n",
            "memory usage: 148.8+ MB\n",
            "First 5 rows of the dataset:\n",
            "+--------------+----------+--------------------------+-------------+------------+-------------------------------------------------------------+---------------------+---------------------+---------------+-----------------+---------------+-----------------------+-----------------+------------------+---------------------+-------------------------------+-------------------+--------------------------+----------------------+---------------------------+----------------------------------+-----------------------------+----------------------+\n",
            "| Unnamed: 0   | app_id   | app_name                 | review_id   | language   | review                                                      | timestamp_created   | timestamp_updated   | recommended   | votes_helpful   | votes_funny   | weighted_vote_score   | comment_count   | steam_purchase   | received_for_free   | written_during_early_access   | author.steamid    | author.num_games_owned   | author.num_reviews   | author.playtime_forever   | author.playtime_last_two_weeks   | author.playtime_at_review   | author.last_played   |\n",
            "+==============+==========+==========================+=============+============+=============================================================+=====================+=====================+===============+=================+===============+=======================+=================+==================+=====================+===============================+===================+==========================+======================+===========================+==================================+=============================+======================+\n",
            "| 0            | 292030   | The Witcher 3: Wild Hunt | 85185598    | schinese   | 不玩此生遗憾，RPG游戏里的天花板，太吸引人了                 | 1611381629          | 1611381629          | True          | 0               | 0             | 0                     | 0               | True             | False               | False                         | 76561199095369542 | 6                        | 2                    | 1909                      | 1448                             | 1909                        | 1.61134e+09          |\n",
            "+--------------+----------+--------------------------+-------------+------------+-------------------------------------------------------------+---------------------+---------------------+---------------+-----------------+---------------+-----------------------+-----------------+------------------+---------------------+-------------------------------+-------------------+--------------------------+----------------------+---------------------------+----------------------------------+-----------------------------+----------------------+\n",
            "| 1            | 292030   | The Witcher 3: Wild Hunt | 85185250    | schinese   | 拔DIAO无情打桩机--杰洛特!!!                                 | 1611381030          | 1611381030          | True          | 0               | 0             | 0                     | 0               | True             | False               | False                         | 76561198949504115 | 30                       | 10                   | 2764                      | 2743                             | 2674                        | 1.61139e+09          |\n",
            "+--------------+----------+--------------------------+-------------+------------+-------------------------------------------------------------+---------------------+---------------------+---------------+-----------------+---------------+-----------------------+-----------------+------------------+---------------------+-------------------------------+-------------------+--------------------------+----------------------+---------------------------+----------------------------------+-----------------------------+----------------------+\n",
            "| 2            | 292030   | The Witcher 3: Wild Hunt | 85185111    | schinese   | 巫师3NB                                                     | 1611380800          | 1611380800          | True          | 0               | 0             | 0                     | 0               | True             | False               | False                         | 76561199090098988 | 5                        | 1                    | 1061                      | 1061                             | 1060                        | 1.61138e+09          |\n",
            "+--------------+----------+--------------------------+-------------+------------+-------------------------------------------------------------+---------------------+---------------------+---------------+-----------------+---------------+-----------------------+-----------------+------------------+---------------------+-------------------------------+-------------------+--------------------------+----------------------+---------------------------+----------------------------------+-----------------------------+----------------------+\n",
            "| 3            | 292030   | The Witcher 3: Wild Hunt | 85184605    | english    | One of the best RPG's of all time, worthy of any collection | 1611379970          | 1611379970          | True          | 0               | 0             | 0                     | 0               | True             | False               | False                         | 76561199054755373 | 5                        | 3                    | 5587                      | 3200                             | 5524                        | 1.61138e+09          |\n",
            "+--------------+----------+--------------------------+-------------+------------+-------------------------------------------------------------+---------------------+---------------------+---------------+-----------------+---------------+-----------------------+-----------------+------------------+---------------------+-------------------------------+-------------------+--------------------------+----------------------+---------------------------+----------------------------------+-----------------------------+----------------------+\n",
            "| 4            | 292030   | The Witcher 3: Wild Hunt | 85184287    | schinese   | 大作                                                        | 1611379427          | 1611379427          | True          | 0               | 0             | 0                     | 0               | True             | False               | False                         | 76561199028326951 | 7                        | 4                    | 217                       | 42                               | 217                         | 1.61079e+09          |\n",
            "+--------------+----------+--------------------------+-------------+------------+-------------------------------------------------------------+---------------------+---------------------+---------------+-----------------+---------------+-----------------------+-----------------+------------------+---------------------+-------------------------------+-------------------+--------------------------+----------------------+---------------------------+----------------------------------+-----------------------------+----------------------+\n",
            "\n",
            "Descriptive statistics:\n",
            "+-------+--------------+----------+-------------+---------------------+---------------------+-----------------+---------------+-----------------------+-----------------+------------------+--------------------------+----------------------+---------------------------+----------------------------------+-----------------------------+----------------------+\n",
            "|       | Unnamed: 0   | app_id   | review_id   | timestamp_created   | timestamp_updated   | votes_helpful   | votes_funny   | weighted_vote_score   | comment_count   | author.steamid   | author.num_games_owned   | author.num_reviews   | author.playtime_forever   | author.playtime_last_two_weeks   | author.playtime_at_review   | author.last_played   |\n",
            "+=======+==============+==========+=============+=====================+=====================+=================+===============+=======================+=================+==================+==========================+======================+===========================+==================================+=============================+======================+\n",
            "| count | 1e+06        | 1e+06    | 1e+06       | 1e+06               | 1e+06               | 1e+06           | 1e+06         | 1e+06                 | 1e+06           | 1e+06            | 1e+06                    | 1e+06                | 1e+06                     | 1e+06                            | 997686                      | 1e+06                |\n",
            "+-------+--------------+----------+-------------+---------------------+---------------------+-----------------+---------------+-----------------------+-----------------+------------------+--------------------------+----------------------+---------------------------+----------------------------------+-----------------------------+----------------------+\n",
            "| mean  | 500000       | 137653   | 5.02464e+07 | 1.53654e+09         | 1.54002e+09         | 1.35429         | 137440        | 0.140014              | 0.110916        | 7.65612e+16      | 128.463                  | 11.7636              | 10191.4                   | 83.7254                          | 6910.5                      | 1.5684e+09           |\n",
            "+-------+--------------+----------+-------------+---------------------+---------------------+-----------------+---------------+-----------------------+-----------------+------------------+--------------------------+----------------------+---------------------------+----------------------------------+-----------------------------+----------------------+\n",
            "| std   | 288676       | 145203   | 2.33221e+07 | 6.95289e+07         | 6.78193e+07         | 23.4749         | 2.42956e+07   | 0.232354              | 1.49333         | 3.29296e+08      | 267.229                  | 38.3939              | 32652.3                   | 548.636                          | 24869.3                     | 8.53231e+07          |\n",
            "+-------+--------------+----------+-------------+---------------------+---------------------+-----------------+---------------+-----------------------+-----------------+------------------+--------------------------+----------------------+---------------------------+----------------------------------+-----------------------------+----------------------+\n",
            "| min   | 0            | 70       | 43          | 1.29032e+09         | 1.29032e+09         | 0               | 0             | 0                     | 0               | 7.65612e+16      | 0                        | 1                    | 0                         | 0                                | 1                           | 0                    |\n",
            "+-------+--------------+----------+-------------+---------------------+---------------------+-----------------+---------------+-----------------------+-----------------+------------------+--------------------------+----------------------+---------------------------+----------------------------------+-----------------------------+----------------------+\n",
            "| 25%   | 250000       | 620      | 3.04457e+07 | 1.48923e+09         | 1.49863e+09         | 0               | 0             | 0                     | 0               | 7.65612e+16      | 26                       | 2                    | 964                       | 0                                | 513                         | 1.56086e+09          |\n",
            "+-------+--------------+----------+-------------+---------------------+---------------------+-----------------+---------------+-----------------------+-----------------+------------------+--------------------------+----------------------+---------------------------+----------------------------------+-----------------------------+----------------------+\n",
            "| 50%   | 500000       | 4000     | 5.34789e+07 | 1.56223e+09         | 1.56831e+09         | 0               | 0             | 0                     | 0               | 7.65612e+16      | 63                       | 5                    | 3465                      | 0                                | 1640                        | 1.59215e+09          |\n",
            "+-------+--------------+----------+-------------+---------------------+---------------------+-----------------+---------------+-----------------------+-----------------+------------------+--------------------------+----------------------+---------------------------+----------------------------------+-----------------------------+----------------------+\n",
            "| 75%   | 750000       | 292030   | 7.1144e+07  | 1.59277e+09         | 1.59389e+09         | 1               | 0             | 0.467978              | 0               | 7.65612e+16      | 140                      | 11                   | 9257                      | 0                                | 5634                        | 1.60705e+09          |\n",
            "+-------+--------------+----------+-------------+---------------------+---------------------+-----------------+---------------+-----------------------+-----------------+------------------+--------------------------+----------------------+---------------------------+----------------------------------+-----------------------------+----------------------+\n",
            "| max   | 1e+06        | 292030   | 8.52182e+07 | 1.61143e+09         | 1.61143e+09         | 7352            | 4.29497e+09   | 0.990385              | 420             | 7.65612e+16      | 20969                    | 5236                 | 3.33615e+06               | 20924                            | 3.06278e+06                 | 1.61143e+09          |\n",
            "+-------+--------------+----------+-------------+---------------------+---------------------+-----------------+---------------+-----------------------+-----------------+------------------+--------------------------+----------------------+---------------------------+----------------------------------+-----------------------------+----------------------+\n"
          ]
        }
      ]
    },
    {
      "cell_type": "markdown",
      "source": [
        "Looking at the results obtained, we can first of all have a more precise idea of the structure of the dataset"
      ],
      "metadata": {
        "id": "oKm8VlkvmAj3"
      }
    },
    {
      "cell_type": "markdown",
      "source": [
        "Below is a brief description of each column of the dataset:\n",
        "\n",
        "1. **app_id**: the application unique identification number\n",
        "2. **app_name**: the name of the game\n",
        "3. **review_id**: unique identity of review\n",
        "4. **language**: language used in review\n",
        "5. **review**: the actual review\n",
        "6. **timestamp_created**: date the review was created (unix\n",
        "timestamp)\n",
        "7. **timestamp_updated**: date the review was last updated (unix\n",
        "timestamp)\n",
        "8. **recommended**: true means it was a positive recommendation\n",
        "9. **votes_helpful**: the number of users that found this review\n",
        "helpful\n",
        "10. **votes_funny**: the number of users that found this review funny\n",
        "11. **weighted_vote_score**: helpfulness score\n",
        "12. **comment_count**: number of comments posted on this review\n",
        "13. **steam_purchase**: true if the user purchased the game on\n",
        "Steam\n",
        "14. **received_for_free**: true if the user checked a box saying they\n",
        "got the app for free\n",
        "15. **written_during_early_access**: true if the user posted this\n",
        "review while the game was in Early Access\n",
        "\n",
        "Author fields:\n",
        "\n",
        "16. **steamid**: the user’s SteamID\n",
        "17. **num_games_owned**: number of games owned by the user\n",
        "18. **num_reviews**: number of reviews written by the user\n",
        "19. **playtime_forever**: lifetime playtime tracked in this app\n",
        "20. **playtime_last_two_weeks**: playtime tracked in the past two\n",
        "weeks for this app\n",
        "21. **playtime_at_review**: playtime when the review was written\n",
        "22. **last_played**: time for when the user last played"
      ],
      "metadata": {
        "id": "bKNBHs-XpXtU"
      }
    },
    {
      "cell_type": "markdown",
      "source": [
        "Secondly, in order to defining a more efficient management of data types, we underlines that:\n",
        "\n",
        "*   there are three columns with Unix timestamps that will need to be converted to datetime format: **timestamp_created**, **timestamp_updated** and **author.last_played**\n",
        "*   there are three columns that it might be useful to convert to string format: **app_name**, **language** and **review** (the latter especially because of its potential length)"
      ],
      "metadata": {
        "id": "mlwDrk_xpl98"
      }
    },
    {
      "cell_type": "markdown",
      "source": [
        "# Research questions (RQs)"
      ],
      "metadata": {
        "id": "D4X8UUEPFwDD"
      }
    },
    {
      "cell_type": "markdown",
      "source": [
        "## [RQ 2]"
      ],
      "metadata": {
        "id": "2M4F9Dl_Zctx"
      }
    },
    {
      "cell_type": "markdown",
      "source": [
        "---\n",
        "\n",
        "*Let's explore the dataset by analyzing the distribution of reviews across different applications.*\n",
        "\n",
        "* *Identify which applications have the highest and lowest number of reviews*\n",
        "* *Plot the number of reviews for each application in descending order. What insights can you draw from the plot?*\n",
        "* *For the top 5 applications by number of reviews, how many reviews came from users who purchased the application versus those who received it for free? Provide a percentage breakdown and highlight any similarities*\n",
        "* *Which applications have the most and the least user recommendations? Summarize your findings*\n",
        "* *Is there a correlation between the number of recommendations and the applications' review scores? Use a statistical test to confirm the significance of the relationship.*\n",
        "\n",
        "---"
      ],
      "metadata": {
        "id": "WZzv5i76ZgMD"
      }
    },
    {
      "cell_type": "markdown",
      "source": [
        "We create a DataFrame using the chunk approach and importing only the columns of interest to answer all the questions of RQ 2"
      ],
      "metadata": {
        "id": "kIi6acrPg6am"
      }
    },
    {
      "cell_type": "code",
      "source": [
        "# set chunk size: 1 million\n",
        "chunksize = 1000000\n",
        "# empty list to store the dataframes\n",
        "data_frames = []\n",
        "\n",
        "# Iterate over the dataset in chunks\n",
        "# usecols: considering just the columns below\n",
        "for chunk in pd.read_csv(dataset_filepath, chunksize=chunksize, usecols=['app_id', 'app_name', 'review_id',\n",
        "                                                                         'steam_purchase', 'received_for_free',\n",
        "                                                                         'recommended', 'weighted_vote_score']):\n",
        "    data_frames.append(chunk)\n",
        "\n",
        "# Concatenate the chunks into a single dataframe\n",
        "df_combined = pd.concat(data_frames, ignore_index=True)"
      ],
      "metadata": {
        "id": "tJJBDGwKc05N"
      },
      "execution_count": 7,
      "outputs": []
    },
    {
      "cell_type": "markdown",
      "source": [
        "### Identify which applications have the highest and lowest number of reviews"
      ],
      "metadata": {
        "id": "1Y7zr8dncxvL"
      }
    },
    {
      "cell_type": "markdown",
      "source": [
        "*   The application with the **highest number** of **reviews** is **PLAYERUNKNOWN'S BATTLEGROUNDS**\n",
        "*   The application with the **lowest number** of **reviews** is **Neon Hardcorps**\n",
        "\n"
      ],
      "metadata": {
        "id": "FMdUnLdZhc-p"
      }
    },
    {
      "cell_type": "code",
      "source": [
        "# Group by app_id and app_name, count review_id\n",
        "review_counts = df_combined.groupby(['app_id', 'app_name'])['review_id'].count()\n",
        "\n",
        "# App with the highest number of reviews\n",
        "highest_reviews = review_counts.idxmax()\n",
        "print(f\"App with the highest number of reviews: {highest_reviews[1]} (app_id: {highest_reviews[0]}), {review_counts.max()} reviews\")\n",
        "\n",
        "# App with the lowest number of reviews\n",
        "lowest_reviews = review_counts.idxmin()\n",
        "print(f\"App with the lowest number of reviews: {lowest_reviews[1]} (app_id: {lowest_reviews[0]}), {review_counts.min()} reviews\")"
      ],
      "metadata": {
        "colab": {
          "base_uri": "https://localhost:8080/"
        },
        "id": "ypRsQndZe5Jh",
        "outputId": "823cd1cc-fd43-4678-c330-21393011bbbd"
      },
      "execution_count": 8,
      "outputs": [
        {
          "output_type": "stream",
          "name": "stdout",
          "text": [
            "App with the highest number of reviews: PLAYERUNKNOWN'S BATTLEGROUNDS (app_id: 578080), 1644255 reviews\n",
            "App with the lowest number of reviews: Neon Hardcorps (app_id: 454200), 200 reviews\n"
          ]
        }
      ]
    },
    {
      "cell_type": "markdown",
      "source": [
        "### Plot the number of reviews for each application in descending order. What insights can you draw from the plot?"
      ],
      "metadata": {
        "id": "Rj1p7A-Wiggm"
      }
    },
    {
      "cell_type": "code",
      "source": [
        "# Sort the review counts in descending order\n",
        "sorted_review_counts = review_counts.sort_values(ascending=False)\n",
        "\n",
        "# Create the plot\n",
        "plt.bar(range(len(sorted_review_counts)), sorted_review_counts.values)\n",
        "plt.xlabel(\"Application\")\n",
        "plt.ylabel(\"Number of Reviews\")\n",
        "plt.title(\"Number of Reviews per Application (Descending Order)\")\n",
        "plt.show()"
      ],
      "metadata": {
        "colab": {
          "base_uri": "https://localhost:8080/",
          "height": 487
        },
        "id": "V1Y4OD1p1W4-",
        "outputId": "5b3ce655-8dcb-46d6-a158-405c204c9a8d"
      },
      "execution_count": 9,
      "outputs": [
        {
          "output_type": "display_data",
          "data": {
            "text/plain": [
              "<Figure size 640x480 with 1 Axes>"
            ],
            "image/png": "[encoded data removed]"
          },
          "metadata": {}
        }
      ]
    },
    {
      "cell_type": "markdown",
      "source": [
        "The plot of the number of reviews for each application shows us a long-tailed distribution (something very close to Chris Anderson theory)\n",
        "\n",
        "Below we add some explanatory data.\n",
        "\n",
        "* 315 apps in total\n",
        "* the first 10 app for number of reviews represent the 34% of the total reviews\n",
        "* the remaining 305 apps represent the remaining 66% of total reviews (market niches, see Anderson above)"
      ],
      "metadata": {
        "id": "dvO3zuKE3eHr"
      }
    },
    {
      "cell_type": "code",
      "source": [
        "# Total number of app_id\n",
        "total_app_ids = df_combined['app_id'].nunique()\n",
        "print(f\"Total number of distinct app_ids: {total_app_ids}\")\n",
        "\n",
        "# Table with top ten app_id (and app_name) for review_id (descending order)\n",
        "review_counts = df_combined.groupby(['app_id', 'app_name'])['review_id'].count().sort_values(ascending=False)\n",
        "total_reviews = review_counts.sum()\n",
        "top_10_apps = review_counts.head(10).reset_index()\n",
        "top_10_apps.rename(columns={'review_id': 'review_count'}, inplace=True)\n",
        "top_10_apps['percentage'] = (top_10_apps['review_count'] / total_reviews) * 100\n",
        "print(\"\\nTop 10 apps by review count:\")\n",
        "print(top_10_apps[['app_id', 'app_name', 'review_count', 'percentage']].to_markdown(index=False))\n",
        "\n",
        "# Percentage weight of the top 10 apps on the total number of review_id\n",
        "top_10_percentage = top_10_apps['percentage'].sum()\n",
        "print(f\"\\nPercentage weight of the top 10 apps: {top_10_percentage:.2f}%\")\n",
        "\n",
        "# Percentage weight of the remaining apps on the total number of review_id\n",
        "remaining_percentage = 100 - top_10_percentage\n",
        "print(f\"Percentage weight of the remaining apps: {remaining_percentage:.2f}%\")"
      ],
      "metadata": {
        "colab": {
          "base_uri": "https://localhost:8080/"
        },
        "id": "oALu9ySNwTVh",
        "outputId": "64c2283a-4546-4e17-f2da-641859b3c9cc"
      },
      "execution_count": 10,
      "outputs": [
        {
          "output_type": "stream",
          "name": "stdout",
          "text": [
            "Total number of distinct app_ids: 315\n",
            "\n",
            "Top 10 apps by review count:\n",
            "|   app_id | app_name                       |   review_count |   percentage |\n",
            "|---------:|:-------------------------------|---------------:|-------------:|\n",
            "|   578080 | PLAYERUNKNOWN'S BATTLEGROUNDS  |        1644255 |      7.56071 |\n",
            "|   271590 | Grand Theft Auto V             |        1019116 |      4.68616 |\n",
            "|   359550 | Tom Clancy's Rainbow Six Siege |         841918 |      3.87136 |\n",
            "|   105600 | Terraria                       |         672815 |      3.09378 |\n",
            "|     4000 | Garry's Mod                    |         655524 |      3.01427 |\n",
            "|   252490 | Rust                           |         549074 |      2.52478 |\n",
            "|   252950 | Rocket League                  |         498565 |      2.29253 |\n",
            "|   218620 | PAYDAY 2                       |         487747 |      2.24279 |\n",
            "|   945360 | Among Us                       |         485293 |      2.2315  |\n",
            "|   292030 | The Witcher 3: Wild Hunt       |         469395 |      2.1584  |\n",
            "\n",
            "Percentage weight of the top 10 apps: 33.68%\n",
            "Percentage weight of the remaining apps: 66.32%\n"
          ]
        }
      ]
    },
    {
      "cell_type": "markdown",
      "source": [
        "### For the top 5 applications by number of reviews, how many reviews came from users who purchased the application versus those who received it for free? Provide a percentage breakdown and highlight any similarities"
      ],
      "metadata": {
        "id": "hguheDPV6ani"
      }
    },
    {
      "cell_type": "markdown",
      "source": [
        "We need to create a new DataFrame using the chunk approach and importing more columns of interest to answer the question"
      ],
      "metadata": {
        "id": "QmxC6jsx-PtW"
      }
    },
    {
      "cell_type": "code",
      "source": [
        "# Group by app_id and app_name, count review_id\n",
        "review_counts = df_combined.groupby(['app_id', 'app_name'])['review_id'].count().sort_values(ascending=False)\n",
        "\n",
        "# Get the top 5 applications\n",
        "top_5_apps = review_counts.head(5)\n",
        "\n",
        "# Iterate over the top 5 apps\n",
        "for app_id, app_name in top_5_apps.index:\n",
        "    app_reviews = df_combined[(df_combined['app_id'] == app_id)]\n",
        "    purchased_reviews = app_reviews[app_reviews['steam_purchase'] == True].shape[0]\n",
        "    free_reviews = app_reviews[app_reviews['received_for_free'] == True].shape[0]\n",
        "    total_reviews = purchased_reviews + free_reviews\n",
        "\n",
        "    print(f\"For {app_name}:\")\n",
        "    print(f\"- Purchased: {purchased_reviews} ({(purchased_reviews / total_reviews) * 100:.2f}%)\")\n",
        "    print(f\"- Received for free: {free_reviews} ({(free_reviews / total_reviews) * 100:.2f}%)\")\n",
        "    print(\"-\" * 20)"
      ],
      "metadata": {
        "colab": {
          "base_uri": "https://localhost:8080/"
        },
        "id": "3Ja0c1ku83Fr",
        "outputId": "4c95cb6f-8ec6-4991-e73c-e9a6df5082f5"
      },
      "execution_count": 11,
      "outputs": [
        {
          "output_type": "stream",
          "name": "stdout",
          "text": [
            "For PLAYERUNKNOWN'S BATTLEGROUNDS:\n",
            "- Purchased: 1372721 (95.72%)\n",
            "- Received for free: 61443 (4.28%)\n",
            "--------------------\n",
            "For Grand Theft Auto V:\n",
            "- Purchased: 905288 (95.91%)\n",
            "- Received for free: 38624 (4.09%)\n",
            "--------------------\n",
            "For Tom Clancy's Rainbow Six Siege:\n",
            "- Purchased: 702505 (95.09%)\n",
            "- Received for free: 36300 (4.91%)\n",
            "--------------------\n",
            "For Terraria:\n",
            "- Purchased: 527762 (96.32%)\n",
            "- Received for free: 20154 (3.68%)\n",
            "--------------------\n",
            "For Garry's Mod:\n",
            "- Purchased: 551250 (95.70%)\n",
            "- Received for free: 24765 (4.30%)\n",
            "--------------------\n"
          ]
        }
      ]
    },
    {
      "cell_type": "markdown",
      "source": [
        "It would seem that all five of these apps have the same percentage incidence of reviews written by users who have purchased the application: about 96%."
      ],
      "metadata": {
        "id": "AqSiRIw_6dnr"
      }
    },
    {
      "cell_type": "markdown",
      "source": [
        "### Which applications have the most and the least user recommendations? Summarize your findings"
      ],
      "metadata": {
        "id": "BsbUZJhE_5pV"
      }
    },
    {
      "cell_type": "code",
      "source": [
        "# Group by app_id and app_name, count recommended\n",
        "recommendations = df_combined.groupby(['app_id', 'app_name'])['recommended'].sum()\n",
        "\n",
        "# App with the most recommendations\n",
        "most_recommendations = recommendations.idxmax()\n",
        "print(f\"App with the most recommendations: {most_recommendations[1]} (app_id: {most_recommendations[0]}), {recommendations.max()} recommendations\")\n",
        "\n",
        "# App with the least recommendations\n",
        "least_recommendations = recommendations.idxmin()\n",
        "print(f\"App with the least recommendations: {least_recommendations[1]} (app_id: {least_recommendations[0]}), {recommendations.min()} recommendations\")"
      ],
      "metadata": {
        "colab": {
          "base_uri": "https://localhost:8080/"
        },
        "id": "eyDy4Dbp_8Y1",
        "outputId": "c2c9016a-a74d-4649-b040-75cc935978bd"
      },
      "execution_count": 12,
      "outputs": [
        {
          "output_type": "stream",
          "name": "stdout",
          "text": [
            "App with the most recommendations: PLAYERUNKNOWN'S BATTLEGROUNDS (app_id: 578080), 886417 recommendations\n",
            "App with the least recommendations: Neon Hardcorps (app_id: 454200), 89 recommendations\n"
          ]
        }
      ]
    },
    {
      "cell_type": "markdown",
      "source": [
        "Not surprisingly, we got a result closely related to what we had previously seen with the apps that got the most and fewest reviews (**PLAYERUNKNOWN'S BATTLEGROUNDS** with 1.644.255 reviews and **Neon Hardcorps** with 200 reviews)"
      ],
      "metadata": {
        "id": "AHTJqZLrBSfl"
      }
    },
    {
      "cell_type": "markdown",
      "source": [
        "Thinking in terms of recommendation rate (defined as the ratio between the number of recommendations and the number of reviews), one could obtain apparently more surprising results.\n",
        "\n",
        "We report an example below, but one should never neglect the absolute values (or at least, not entirely; \"niche\" VS \"broad\" market)"
      ],
      "metadata": {
        "id": "w_NSa37TKesW"
      }
    },
    {
      "cell_type": "code",
      "source": [
        "# Group by app_id and app_name\n",
        "grouped_data = df_combined.groupby(['app_id', 'app_name'])\n",
        "\n",
        "# Calculate recommendations, review counts, and recommendation rate\n",
        "app_stats = grouped_data.agg(\n",
        "    recommendations=('recommended', 'sum'),\n",
        "    review_count=('review_id', 'count'),\n",
        "    recommendation_rate=('recommended', lambda x: x.sum() / len(x) if len(x) > 0 else 0)\n",
        ")\n",
        "\n",
        "# Find app with most recommendations\n",
        "most_recommendations_app = app_stats['recommendations'].idxmax()\n",
        "print(\"App with most recommendations:\")\n",
        "print(f\"App Name: {most_recommendations_app[1]}\")\n",
        "print(f\"Recommendations: {app_stats.loc[most_recommendations_app, 'recommendations']}\")\n",
        "print(f\"Reviews: {app_stats.loc[most_recommendations_app, 'review_count']}\")\n",
        "print(f\"Recommendation Rate: {app_stats.loc[most_recommendations_app, 'recommendation_rate']}\")\n",
        "print(\"-\"*20)\n",
        "\n",
        "\n",
        "# Find app with least recommendations\n",
        "least_recommendations_app = app_stats['recommendations'].idxmin()\n",
        "print(\"\\nApp with least recommendations:\")\n",
        "print(f\"App Name: {least_recommendations_app[1]}\")\n",
        "print(f\"Recommendations: {app_stats.loc[least_recommendations_app, 'recommendations']}\")\n",
        "print(f\"Reviews: {app_stats.loc[least_recommendations_app, 'review_count']}\")\n",
        "print(f\"Recommendation Rate: {app_stats.loc[least_recommendations_app, 'recommendation_rate']}\")\n",
        "print(\"-\"*20)\n",
        "\n",
        "\n",
        "# Find app with highest recommendation rate\n",
        "highest_rate_app = app_stats['recommendation_rate'].idxmax()\n",
        "print(\"\\nApp with highest recommendation rate:\")\n",
        "print(f\"App Name: {highest_rate_app[1]}\")\n",
        "print(f\"Recommendations: {app_stats.loc[highest_rate_app, 'recommendations']}\")\n",
        "print(f\"Reviews: {app_stats.loc[highest_rate_app, 'review_count']}\")\n",
        "print(f\"Recommendation Rate: {app_stats.loc[highest_rate_app, 'recommendation_rate']}\")\n",
        "print(\"-\"*20)\n",
        "\n",
        "# Find app with lowest recommendation rate\n",
        "lowest_rate_app = app_stats['recommendation_rate'].idxmin()\n",
        "print(\"\\nApp with lowest recommendation rate:\")\n",
        "print(f\"App Name: {lowest_rate_app[1]}\")\n",
        "print(f\"Recommendations: {app_stats.loc[lowest_rate_app, 'recommendations']}\")\n",
        "print(f\"Reviews: {app_stats.loc[lowest_rate_app, 'review_count']}\")\n",
        "print(f\"Recommendation Rate: {app_stats.loc[lowest_rate_app, 'recommendation_rate']}\")\n",
        "print(\"-\"*20)"
      ],
      "metadata": {
        "colab": {
          "base_uri": "https://localhost:8080/"
        },
        "id": "Um95EMr2GdNm",
        "outputId": "3bf36f38-4785-42b1-c9b9-a24d4211acdd"
      },
      "execution_count": 13,
      "outputs": [
        {
          "output_type": "stream",
          "name": "stdout",
          "text": [
            "App with most recommendations:\n",
            "App Name: PLAYERUNKNOWN'S BATTLEGROUNDS\n",
            "Recommendations: 886417\n",
            "Reviews: 1644255\n",
            "Recommendation Rate: 0.5390994705809014\n",
            "--------------------\n",
            "\n",
            "App with least recommendations:\n",
            "App Name: Neon Hardcorps\n",
            "Recommendations: 89\n",
            "Reviews: 200\n",
            "Recommendation Rate: 0.445\n",
            "--------------------\n",
            "\n",
            "App with highest recommendation rate:\n",
            "App Name: ULTRAKILL\n",
            "Recommendations: 5558\n",
            "Reviews: 5584\n",
            "Recommendation Rate: 0.9953438395415473\n",
            "--------------------\n",
            "\n",
            "App with lowest recommendation rate:\n",
            "App Name: Identity\n",
            "Recommendations: 439\n",
            "Reviews: 1804\n",
            "Recommendation Rate: 0.2433481152993348\n",
            "--------------------\n"
          ]
        }
      ]
    },
    {
      "cell_type": "markdown",
      "source": [
        "### Is there a correlation between the number of recommendations and the applications' review scores? Use a statistical test to confirm the significance of the relationship"
      ],
      "metadata": {
        "id": "7NpVSzy4C4gg"
      }
    },
    {
      "cell_type": "code",
      "source": [
        "import pandas as pd\n",
        "from scipy.stats import spearmanr\n",
        "\n",
        "# Group by app and calculate the sum of recommendations and the mean weighted vote score\n",
        "app_stats = df_combined.groupby(['app_id', 'app_name']).agg(\n",
        "    recommendations=('recommended', 'sum'),\n",
        "    average_weighted_vote_score=('weighted_vote_score', 'mean')\n",
        ").reset_index()\n",
        "\n",
        "# Calculate Spearman's correlation\n",
        "correlation, p_value = spearmanr(app_stats['recommendations'], app_stats['average_weighted_vote_score'])\n",
        "\n",
        "print(\"Spearman's correlation:\", correlation)\n",
        "print(\"P-value:\", p_value)\n",
        "\n",
        "# Interpret the results\n",
        "alpha = 0.05  # Significance level\n",
        "if p_value < alpha:\n",
        "    print(\"There is a statistically significant correlation between the number of recommendations and the average weighted vote score.\")\n",
        "else:\n",
        "    print(\"There is no statistically significant correlation between the number of recommendations and the average weighted vote score.\")"
      ],
      "metadata": {
        "colab": {
          "base_uri": "https://localhost:8080/"
        },
        "id": "rawYfT5-C7GV",
        "outputId": "d80a6157-a638-4957-ee99-4d03d9a2fdd9"
      },
      "execution_count": 15,
      "outputs": [
        {
          "output_type": "stream",
          "name": "stdout",
          "text": [
            "Spearman's correlation: -0.6258916454440435\n",
            "P-value: 1.1618128912072842e-35\n",
            "There is a statistically significant correlation between the number of recommendations and the average weighted vote score.\n"
          ]
        }
      ]
    },
    {
      "cell_type": "code",
      "source": [
        "del df_combined\n",
        "del chunk\n",
        "del data_frames"
      ],
      "metadata": {
        "collapsed": true,
        "id": "X_UUxNBdfx3Z"
      },
      "execution_count": null,
      "outputs": []
    },
    {
      "cell_type": "markdown",
      "source": [
        "## [RQ 3]"
      ],
      "metadata": {
        "id": "LZ-kumbJNf-e"
      }
    },
    {
      "cell_type": "markdown",
      "source": [
        "---\n",
        "\n",
        "*Understanding when users are most active in submitting reviews can help identify peak engagement periods*\n",
        "\n",
        "* *Plot the number of reviews submitted each month and describe any trends*\n",
        "* *Identify any seasonal patterns or trends in review activity. Explain any seasonal impact you notice*\n",
        "* *Determine if certain times of the year have higher engagement rates. Describe noticeable peaks in user activity*\n",
        "* *What is the most common time of day users write reviews? For example, users might typically write reviews at 17:44. Explain how this time distribution could influence your analysis*\n",
        "* *Create a function that accepts a list of time intervals and plots the number of reviews for each interval*\n",
        "* *Use the function to plot the number of reviews for the following time intervals:*\n",
        "\n",
        "*InitialTime FinalTime*\n",
        "\n",
        "*00:00:00  02:59:59*\n",
        "\n",
        "*03:00:00  05:59:59*\n",
        "\n",
        "*06:00:00  10:59:59*\n",
        "\n",
        "*11:00:00  13:59:59*\n",
        "\n",
        "*14:00:00  16:59:59*\n",
        "\n",
        "*17:00:00  19:59:59*\n",
        "\n",
        "*20:00:00  23:59:59*\n",
        "\n",
        "* Summarize your findings from the time interval analysis.\n",
        "\n",
        "\n",
        "---"
      ],
      "metadata": {
        "id": "oSK2Wr3PNnCF"
      }
    },
    {
      "cell_type": "markdown",
      "source": [
        "As done previously, we create a DataFrame that allows us to address RQ 3"
      ],
      "metadata": {
        "id": "j295Si1ylIH1"
      }
    },
    {
      "cell_type": "code",
      "source": [
        "# set chunk size: 1 million\n",
        "chunksize = 1000000\n",
        "# empty list to store the dataframes\n",
        "data_frames = []\n",
        "\n",
        "# Iterate over the dataset in chunks\n",
        "# usecols: considering just the columns below\n",
        "for chunk in pd.read_csv(dataset_filepath, chunksize=chunksize, usecols=['review_id',\n",
        "                                                                         'timestamp_created', 'timestamp_updated',\n",
        "                                                                         'recommended',\n",
        "                                                                         'author.steamid', 'author.playtime_forever', 'author.playtime_last_two_weeks',\n",
        "                                                                         'weighted_vote_score']):\n",
        "    data_frames.append(chunk)\n",
        "\n",
        "# Concatenate the chunks into a single DataFrame\n",
        "df_combined = pd.concat(data_frames, ignore_index=True)"
      ],
      "metadata": {
        "id": "nUk2eIpConoI"
      },
      "execution_count": 18,
      "outputs": []
    },
    {
      "cell_type": "markdown",
      "source": [
        "### Plot the number of reviews submitted each month and describe any trends"
      ],
      "metadata": {
        "id": "SoYhMtbAPEq-"
      }
    },
    {
      "cell_type": "markdown",
      "source": [
        "Now we can plot the number of reviews submitted each month.\n",
        "\n",
        "We note:\n",
        "* a considerable growth year on year, very evident since 2014\n",
        "* a huge increase in 2020 (linked to the COVID-19 pandemic)\n",
        "* repeated and significant increments during the months of December and the summer months (effect of school holidays, or less workload, and probably Christmas and/or end-of-school gifts, without forgetting the effects of discount campaigns such as Black Friday)\n",
        "\n"
      ],
      "metadata": {
        "id": "u-JUCoRavA_N"
      }
    },
    {
      "cell_type": "code",
      "source": [
        "# Convert the timestamp_created column to datetime objects\n",
        "df_combined['timestamp_created'] = pd.to_datetime(df_combined['timestamp_created'], unit='s')\n",
        "# Extract the month from the timestamp_created column\n",
        "df_combined['month'] = df_combined['timestamp_created'].dt.to_period('M')\n",
        "\n",
        "# Group by month and count the number of reviews\n",
        "monthly_reviews = df_combined.groupby('month')['review_id'].count()\n",
        "\n",
        "# Create the plot\n",
        "plt.figure(figsize=(20, 6))\n",
        "plt.bar(monthly_reviews.index.astype(str), monthly_reviews.values)\n",
        "plt.xlabel('Month')\n",
        "plt.ylabel('Number of Reviews')\n",
        "plt.title('Number of Reviews Submitted Each Month')\n",
        "plt.xticks(rotation=90, ha='right')\n",
        "plt.show()"
      ],
      "metadata": {
        "colab": {
          "base_uri": "https://localhost:8080/",
          "height": 503
        },
        "id": "BRrvlZJZPHeE",
        "outputId": "60ed27fa-d92f-4f4a-c123-1ade7e7f554e"
      },
      "execution_count": 19,
      "outputs": [
        {
          "output_type": "display_data",
          "data": {
            "text/plain": [
              "<Figure size 2000x600 with 1 Axes>"
            ],
            "image/png": "[encoded data removed]"
          },
          "metadata": {}
        }
      ]
    },
    {
      "cell_type": "markdown",
      "source": [
        "### Identify any seasonal patterns or trends in review activity. Explain any seasonal impact you notice"
      ],
      "metadata": {
        "id": "AdQPvaF0PWJy"
      }
    },
    {
      "cell_type": "code",
      "source": [
        "# Convert the timestamp_created column to datetime objects\n",
        "df_combined['timestamp_created'] = pd.to_datetime(df_combined['timestamp_created'], unit='s')\n",
        "# Extract the month from the timestamp_created column\n",
        "df_combined['month'] = df_combined['timestamp_created'].dt.month\n",
        "\n",
        "# Group by month and count the number of reviews\n",
        "monthly_reviews = df_combined.groupby('month')['review_id'].count()\n",
        "\n",
        "# Create the plot\n",
        "plt.bar(monthly_reviews.index, monthly_reviews.values)\n",
        "plt.xlabel('Month')\n",
        "plt.ylabel('Number of Reviews')\n",
        "plt.title('Number of Reviews Submitted Each Month')\n",
        "plt.show()"
      ],
      "metadata": {
        "colab": {
          "base_uri": "https://localhost:8080/",
          "height": 472
        },
        "id": "BWV6ow18Gnxd",
        "outputId": "6598a9c4-7362-49cd-9667-d8cb8bf8515b"
      },
      "execution_count": 20,
      "outputs": [
        {
          "output_type": "display_data",
          "data": {
            "text/plain": [
              "<Figure size 640x480 with 1 Axes>"
            ],
            "image/png": "[encoded data removed]"
          },
          "metadata": {}
        }
      ]
    },
    {
      "cell_type": "markdown",
      "source": [
        "### Determine if certain times of the year have higher engagement rates. Describe noticeable peaks in user activity"
      ],
      "metadata": {
        "id": "_EWWFvJgPfMe"
      }
    },
    {
      "cell_type": "markdown",
      "source": [
        "### What is the most common time of day users write reviews? For example, users might typically write reviews at 17:44. Explain how this time distribution could influence your analysis"
      ],
      "metadata": {
        "id": "pxY4oN1hPngR"
      }
    },
    {
      "cell_type": "markdown",
      "source": [
        "The time slot in which users write the most reviews is the afternoon (it would seem after the morning commitments, school or work)."
      ],
      "metadata": {
        "id": "5KYXsbjtLisn"
      }
    },
    {
      "cell_type": "code",
      "source": [
        "# Extract the hour from the timestamp_created column\n",
        "df_combined['hour'] = df_combined['timestamp_created'].dt.hour\n",
        "\n",
        "# Count the number of reviews for each hour\n",
        "hourly_reviews = df_combined.groupby('hour')['review_id'].count()\n",
        "\n",
        "# Plotting the distribution of reviews across hours\n",
        "plt.figure()\n",
        "plt.bar(hourly_reviews.index, hourly_reviews.values)\n",
        "plt.xlabel(\"Hour of Day\")\n",
        "plt.ylabel(\"Number of Reviews\")\n",
        "plt.title(\"Distribution of Reviews Across Hours of the Day\")\n",
        "plt.show()"
      ],
      "metadata": {
        "colab": {
          "base_uri": "https://localhost:8080/",
          "height": 472
        },
        "id": "iOiWXc-wPuS0",
        "outputId": "f626d2aa-8ec9-4e4a-9245-83706bb091c4"
      },
      "execution_count": 21,
      "outputs": [
        {
          "output_type": "display_data",
          "data": {
            "text/plain": [
              "<Figure size 640x480 with 1 Axes>"
            ],
            "image/png": "[encoded data removed]"
          },
          "metadata": {}
        }
      ]
    },
    {
      "cell_type": "markdown",
      "source": [
        "### Create a function that accepts a list of time intervals and plots the number of reviews for each interval"
      ],
      "metadata": {
        "id": "y-MPo-Z8P0vb"
      }
    },
    {
      "cell_type": "code",
      "source": [
        "def plot_reviews_per_hour(df, intervals):\n",
        "    df['timestamp_created'] = pd.to_datetime(df['timestamp_created'], unit='s')\n",
        "\n",
        "    hourly_reviews = []\n",
        "    for start, end in intervals:\n",
        "        # Calculate interval duration in hours\n",
        "        duration = pd.to_timedelta(pd.to_datetime(end) - pd.to_datetime(start)).total_seconds() / 3600\n",
        "\n",
        "        # Filter and count reviews\n",
        "        count = df[\n",
        "            (df['timestamp_created'].dt.time >= pd.to_datetime(start).time()) &\n",
        "            (df['timestamp_created'].dt.time <= pd.to_datetime(end).time())\n",
        "        ].shape[0] # Get the number of rows (reviews)\n",
        "\n",
        "        # Calculate and store reviews per hour\n",
        "        hourly_reviews.append(count / duration)\n",
        "\n",
        "    # Create the plot\n",
        "    plt.bar([f\"{start} - {end}\" for start, end in intervals], hourly_reviews)\n",
        "    plt.xlabel(\"Time Interval\")\n",
        "    plt.ylabel(\"Reviews per Hour\")\n",
        "    plt.title(\"Number of Reviews per Hour\")\n",
        "    plt.xticks(rotation=90)\n",
        "    plt.show()"
      ],
      "metadata": {
        "id": "KtMgwDvUfWmP"
      },
      "execution_count": 24,
      "outputs": []
    },
    {
      "cell_type": "markdown",
      "source": [
        "### Use the function to plot the number of reviews for the following time intervals [...]\n",
        "\n",
        "Summarize your findings from the time interval analysis"
      ],
      "metadata": {
        "id": "5TfQIqR4QDjL"
      }
    },
    {
      "cell_type": "markdown",
      "source": [
        "The result of the analysis is in line with what was shown in the previous point, with a majority of reviews in the afternoon hours.\n",
        "\n",
        "We have shown the **number of reviews per hour** to allow a comparison between time intervals of different durations, such as those indicated."
      ],
      "metadata": {
        "id": "t1FOW3ZBoYnh"
      }
    },
    {
      "cell_type": "code",
      "source": [
        "intervals = [\n",
        "    (\"00:00:00\", \"02:59:59\"),\n",
        "    (\"03:00:00\", \"05:59:59\"),\n",
        "    (\"06:00:00\", \"10:59:59\"),\n",
        "    (\"11:00:00\", \"13:59:59\"),\n",
        "    (\"14:00:00\", \"16:59:59\"),\n",
        "    (\"17:00:00\", \"19:59:59\"),\n",
        "    (\"20:00:00\", \"23:59:59\"),\n",
        "]\n",
        "\n",
        "plot_reviews_per_hour(df_combined, intervals)"
      ],
      "metadata": {
        "colab": {
          "base_uri": "https://localhost:8080/",
          "height": 595
        },
        "id": "rvCsYzKFQD74",
        "outputId": "41c32626-a63f-42a8-e48c-a35778f2d6b1"
      },
      "execution_count": 25,
      "outputs": [
        {
          "output_type": "display_data",
          "data": {
            "text/plain": [
              "<Figure size 640x480 with 1 Axes>"
            ],
            "image/png": "[encoded data removed]"
          },
          "metadata": {}
        }
      ]
    },
    {
      "cell_type": "code",
      "source": [
        "del data_frames\n",
        "del df_combined\n",
        "del chunk"
      ],
      "metadata": {
        "id": "M5Q3jFFinAow"
      },
      "execution_count": null,
      "outputs": []
    },
    {
      "cell_type": "markdown",
      "source": [
        "## [RQ 4]"
      ],
      "metadata": {
        "id": "gbfBsmmHmEjC"
      }
    },
    {
      "cell_type": "markdown",
      "source": [
        "---\n",
        "\n",
        "*Investigating whether users who spend more time using an application give higher or lower ratings.*\n",
        "\n",
        "* *Analyze the relationship between the amount of time a user has spent on an application and their review score.*\n",
        "* *Do more experienced users (who have used the application longer) tend to give higher or lower ratings? Comment on any trends you observe.*\n",
        "* *Plot the distribution of review scores based on different user experience levels (e.g., new users vs. veteran users). Is there a statistical difference in the score distributions? Use an appropriate statistical test to validate your hypothesis.*\n",
        "* *Ask an LLM tool (ChatGPT, Claude AI, etc.) to interpret the statistical results of the analysis and provide potential explanations for the trends. Does the LLM suggest additional factors that could explain why users who spend more time on the app give higher or lower ratings? How can you validate the interpretations provided by the LLM?*\n",
        "\n",
        "---"
      ],
      "metadata": {
        "id": "M0tDB0GHmOlH"
      }
    },
    {
      "cell_type": "markdown",
      "source": [
        "### Analyze the relationship between the amount of time a user has spent on an application and their review score"
      ],
      "metadata": {
        "id": "lVyZz7aemp7I"
      }
    },
    {
      "cell_type": "markdown",
      "source": [
        "### Do more experienced users (who have used the application longer) tend to give higher or lower ratings? Comment on any trends you observe"
      ],
      "metadata": {
        "id": "KiWAxp4Vm4Og"
      }
    },
    {
      "cell_type": "markdown",
      "source": [
        "### Plot the distribution of review scores based on different user experience levels (e.g., new users vs. veteran users). Is there a statistical difference in the score distributions? Use an appropriate statistical test to validate your hypothesis"
      ],
      "metadata": {
        "id": "oXAMmtznm_nR"
      }
    },
    {
      "cell_type": "markdown",
      "source": [
        "## [RQ 5]"
      ],
      "metadata": {
        "id": "CeSap4afRAo_"
      }
    },
    {
      "cell_type": "markdown",
      "source": [
        "---\n",
        "*It is interesting to explore the top reviewers to gain insight into their demographic location, the quality of their reviews, and the applications they tend to review most frequently*\n",
        "\n",
        "* *Determine the ten reviewers with the highest number of reviews in the dataset*\n",
        "* *What is the percentage of each language used by these top 10 reviewers when submitting a review?*\n",
        "* *Let's examine whether other users found the reviews from these top 10 reviewers helpful or if they were simply spamming. Calculate the average number of valuable votes these reviewers received for their submitted reviews. Elaborate on the results you see.*\n",
        "* *Create a plot showing the distribution of the number of reviews each application received from the top 10 reviewers, arranged in descending order*\n",
        "---"
      ],
      "metadata": {
        "id": "Z-d0IlUMRFYd"
      }
    },
    {
      "cell_type": "markdown",
      "source": [
        "Create the combined DataFrame for answering [RQ 5]"
      ],
      "metadata": {
        "id": "YADhAQC2SpuW"
      }
    },
    {
      "cell_type": "code",
      "source": [
        "# set chunk size: 1 million\n",
        "chunksize = 1000000\n",
        "# empty list to store the dataframes\n",
        "data_frames = []\n",
        "\n",
        "# Iterate over the dataset in chunks\n",
        "# usecols: considering just the columns below\n",
        "for chunk in pd.read_csv(dataset_filepath, chunksize=chunksize, usecols=['app_id',\n",
        "                                                                         'app_name',\n",
        "                                                                         'review_id',\n",
        "                                                                         'language',\n",
        "                                                                         'votes_helpful',\n",
        "                                                                         'weighted_vote_score',\n",
        "                                                                         'timestamp_created', 'timestamp_updated',\n",
        "                                                                         'author.steamid',\n",
        "                                                                         'author.num_games_owned']):\n",
        "    data_frames.append(chunk)\n",
        "\n",
        "# Concatenate the chunks into a single dataframe\n",
        "df_combined = pd.concat(data_frames, ignore_index=True)"
      ],
      "metadata": {
        "id": "Ps0tOIzSSs0X"
      },
      "execution_count": 28,
      "outputs": []
    },
    {
      "cell_type": "markdown",
      "source": [
        "### Determine the ten reviewers with the highest number of reviews in the dataset"
      ],
      "metadata": {
        "id": "r8ESMZOORz3l"
      }
    },
    {
      "cell_type": "code",
      "source": [
        "reviewer_counts = df_combined.groupby('author.steamid')['review_id'].count().sort_values(ascending=False)\n",
        "top_10_reviewers = reviewer_counts.head(10)\n",
        "print(\"\\nTop 10 reviewers by review count:\")\n",
        "print(top_10_reviewers.to_markdown(numalign=\"left\", stralign=\"left\", tablefmt=\"grid\"))"
      ],
      "metadata": {
        "colab": {
          "base_uri": "https://localhost:8080/"
        },
        "id": "rScKSipDR1BZ",
        "outputId": "b395c14c-3646-47f0-b10f-a9e2fd30bb7d"
      },
      "execution_count": 29,
      "outputs": [
        {
          "output_type": "stream",
          "name": "stdout",
          "text": [
            "\n",
            "Top 10 reviewers by review count:\n",
            "+-------------------+-------------+\n",
            "| author.steamid    | review_id   |\n",
            "+===================+=============+\n",
            "| 76561198062813911 | 149         |\n",
            "+-------------------+-------------+\n",
            "| 76561198315585536 | 132         |\n",
            "+-------------------+-------------+\n",
            "| 76561198192166873 | 107         |\n",
            "+-------------------+-------------+\n",
            "| 76561198239163744 | 106         |\n",
            "+-------------------+-------------+\n",
            "| 76561198045381877 | 103         |\n",
            "+-------------------+-------------+\n",
            "| 76561198064946151 | 100         |\n",
            "+-------------------+-------------+\n",
            "| 76561198013146396 | 99          |\n",
            "+-------------------+-------------+\n",
            "| 76561198027973295 | 96          |\n",
            "+-------------------+-------------+\n",
            "| 76561197969749884 | 88          |\n",
            "+-------------------+-------------+\n",
            "| 76561197989746995 | 86          |\n",
            "+-------------------+-------------+\n"
          ]
        }
      ]
    },
    {
      "cell_type": "markdown",
      "source": [
        "### What is the percentage of each language used by these top 10 reviewers when submitting a review?"
      ],
      "metadata": {
        "id": "TUHMrqtPTBY0"
      }
    },
    {
      "cell_type": "code",
      "source": [
        "# Filter reviews by top 10 reviewers\n",
        "top_reviewers_df = df_combined[df_combined['author.steamid'].isin(top_10_reviewers.index)]\n",
        "\n",
        "# Calculate language distribution\n",
        "language_distribution = top_reviewers_df.groupby('language')['review_id'].count()\n",
        "language_percentages = (language_distribution / language_distribution.sum()) * 100\n",
        "\n",
        "print(\"\\nPercentage of each language for the top 10 reviewers:\")\n",
        "print(language_percentages.to_markdown(numalign=\"left\", stralign=\"left\", tablefmt=\"grid\"))"
      ],
      "metadata": {
        "colab": {
          "base_uri": "https://localhost:8080/"
        },
        "id": "J1OMPHVgTFLx",
        "outputId": "34eebe75-a0de-4d93-8dce-d12fb89a0af4"
      },
      "execution_count": 30,
      "outputs": [
        {
          "output_type": "stream",
          "name": "stdout",
          "text": [
            "\n",
            "Percentage of each language for the top 10 reviewers:\n",
            "+------------+-------------+\n",
            "| language   | review_id   |\n",
            "+============+=============+\n",
            "| english    | 53.94       |\n",
            "+------------+-------------+\n",
            "| russian    | 28.1426     |\n",
            "+------------+-------------+\n",
            "| schinese   | 17.9174     |\n",
            "+------------+-------------+\n"
          ]
        }
      ]
    },
    {
      "cell_type": "markdown",
      "source": [
        "### Let's examine whether other users found the reviews from these top 10 reviewers helpful or if they were simply spamming. Calculate the average number of valuable votes these reviewers received for their submitted reviews. Elaborate on the results you see"
      ],
      "metadata": {
        "id": "BlkWlkZsTfu6"
      }
    },
    {
      "cell_type": "markdown",
      "source": [
        "We have identified potential spammers, that is, users who have written many reviews but have not been considered useful by other users (for example the author 76561198062813911, who is the user who has contributed most of all the others in terms of review)"
      ],
      "metadata": {
        "id": "0NpJ_fxAdxCI"
      }
    },
    {
      "cell_type": "code",
      "source": [
        "reviewer_counts = df_combined.groupby('author.steamid')['review_id'].count().sort_values(ascending=False)\n",
        "top_10_reviewers = reviewer_counts.head(10)\n",
        "\n",
        "# Calculate average 'votes_helpful' for each reviewer\n",
        "top_reviewer_ids = top_10_reviewers.index  # Get the reviewer IDs\n",
        "\n",
        "# Calculate average 'votes_helpful' for each top reviewer\n",
        "avg_helpful_votes = df_combined[df_combined['author.steamid'].isin(top_reviewer_ids)] \\\n",
        "    .groupby('author.steamid')['votes_helpful'].mean()\n",
        "\n",
        "# Add the average 'votes_helpful' as a new column to top_10_reviewers\n",
        "top_10_reviewers = top_10_reviewers.to_frame(name='review_count')  # Convert to DataFrame\n",
        "top_10_reviewers['avg_helpful_votes'] = avg_helpful_votes\n",
        "\n",
        "# Print the updated table\n",
        "print(\"\\nTop 10 reviewers by review count (with avg_helpful_votes):\")\n",
        "print(top_10_reviewers.to_markdown(numalign=\"left\", stralign=\"left\", tablefmt=\"grid\"))"
      ],
      "metadata": {
        "colab": {
          "base_uri": "https://localhost:8080/"
        },
        "id": "wRrHZGiTThyE",
        "outputId": "a7154f69-4e29-44e9-d72d-aec43cb8f37b"
      },
      "execution_count": 31,
      "outputs": [
        {
          "output_type": "stream",
          "name": "stdout",
          "text": [
            "\n",
            "Top 10 reviewers by review count (with avg_helpful_votes):\n",
            "+-------------------+----------------+---------------------+\n",
            "| author.steamid    | review_count   | avg_helpful_votes   |\n",
            "+===================+================+=====================+\n",
            "| 76561198062813911 | 149            | 0.885906            |\n",
            "+-------------------+----------------+---------------------+\n",
            "| 76561198315585536 | 132            | 49.7121             |\n",
            "+-------------------+----------------+---------------------+\n",
            "| 76561198192166873 | 107            | 38.8972             |\n",
            "+-------------------+----------------+---------------------+\n",
            "| 76561198239163744 | 106            | 7.64151             |\n",
            "+-------------------+----------------+---------------------+\n",
            "| 76561198045381877 | 103            | 2.25243             |\n",
            "+-------------------+----------------+---------------------+\n",
            "| 76561198064946151 | 100            | 3.99                |\n",
            "+-------------------+----------------+---------------------+\n",
            "| 76561198013146396 | 99             | 0.969697            |\n",
            "+-------------------+----------------+---------------------+\n",
            "| 76561198027973295 | 96             | 11.8021             |\n",
            "+-------------------+----------------+---------------------+\n",
            "| 76561197969749884 | 88             | 26.2386             |\n",
            "+-------------------+----------------+---------------------+\n",
            "| 76561197989746995 | 86             | 21.0581             |\n",
            "+-------------------+----------------+---------------------+\n"
          ]
        }
      ]
    },
    {
      "cell_type": "markdown",
      "source": [
        "### Create a plot showing the distribution of the number of reviews each application received from the top 10 reviewers, arranged in descending order"
      ],
      "metadata": {
        "id": "Rm7CVoEcTy6z"
      }
    },
    {
      "cell_type": "markdown",
      "source": [
        "This research could suggest which types of games generate the most interest in the most loyal and engaged users on the platform.\n",
        "\n",
        "In the table below we have limited the list to the top twenty apps that have received the most comments from the ten top reviewers."
      ],
      "metadata": {
        "id": "GWpvjTLbG1S2"
      }
    },
    {
      "cell_type": "code",
      "source": [
        "# Filter reviews by top 10 reviewers\n",
        "top_reviewers_df = df_combined[df_combined['author.steamid'].isin(top_10_reviewers.index)]\n",
        "\n",
        "# Group by app_id and count reviews\n",
        "app_review_counts = top_reviewers_df.groupby(['app_id', 'app_name'])['review_id'].count().sort_values(ascending=False).head(20)\n",
        "\n",
        "# Create the table\n",
        "app_review_table = pd.DataFrame({\n",
        "    'app_id': app_review_counts.index.get_level_values(0),\n",
        "    'app_name': app_review_counts.index.get_level_values(1),\n",
        "    'review_count': app_review_counts.values\n",
        "})\n",
        "\n",
        "app_review_table"
      ],
      "metadata": {
        "colab": {
          "base_uri": "https://localhost:8080/",
          "height": 677
        },
        "id": "32Dt5pq9Tz8i",
        "outputId": "291867c4-ecfa-4b2e-a91b-ac8418f816bb"
      },
      "execution_count": 32,
      "outputs": [
        {
          "output_type": "execute_result",
          "data": {
            "text/plain": [
              "    app_id                                     app_name  review_count\n",
              "0   367520                                Hollow Knight            14\n",
              "1   203160                                  Tomb Raider            10\n",
              "2   377160                                    Fallout 4            10\n",
              "3   238460                          BattleBlock Theater             9\n",
              "4   359550               Tom Clancy's Rainbow Six Siege             9\n",
              "5     4000                                  Garry's Mod             9\n",
              "6   381210                             Dead by Daylight             9\n",
              "7   218620                                     PAYDAY 2             9\n",
              "8   292030                     The Witcher 3: Wild Hunt             9\n",
              "9   489830  The Elder Scrolls V: Skyrim Special Edition             9\n",
              "10  219150                                Hotline Miami             9\n",
              "11  213670             South Park™: The Stick of Truth™             8\n",
              "12  239140                                  Dying Light             8\n",
              "13  289070                  Sid Meier's Civilization VI             8\n",
              "14  427290                                       Vampyr             8\n",
              "15  391220                      Rise of the Tomb Raider             8\n",
              "16  379430                    Kingdom Come: Deliverance             8\n",
              "17  322330                        Don't Starve Together             8\n",
              "18  274190                                     Broforce             8\n",
              "19   55230                        Saints Row: The Third             8"
            ],
            "text/html": [
              "\n",
              "  <div id=\"df-fb8ab079-2198-4293-84d9-49ccbef27874\" class=\"colab-df-container\">\n",
              "    <div>\n",
              "<style scoped>\n",
              "    .dataframe tbody tr th:only-of-type {\n",
              "        vertical-align: middle;\n",
              "    }\n",
              "\n",
              "    .dataframe tbody tr th {\n",
              "        vertical-align: top;\n",
              "    }\n",
              "\n",
              "    .dataframe thead th {\n",
              "        text-align: right;\n",
              "    }\n",
              "</style>\n",
              "<table border=\"1\" class=\"dataframe\">\n",
              "  <thead>\n",
              "    <tr style=\"text-align: right;\">\n",
              "      <th></th>\n",
              "      <th>app_id</th>\n",
              "      <th>app_name</th>\n",
              "      <th>review_count</th>\n",
              "    </tr>\n",
              "  </thead>\n",
              "  <tbody>\n",
              "    <tr>\n",
              "      <th>0</th>\n",
              "      <td>367520</td>\n",
              "      <td>Hollow Knight</td>\n",
              "      <td>14</td>\n",
              "    </tr>\n",
              "    <tr>\n",
              "      <th>1</th>\n",
              "      <td>203160</td>\n",
              "      <td>Tomb Raider</td>\n",
              "      <td>10</td>\n",
              "    </tr>\n",
              "    <tr>\n",
              "      <th>2</th>\n",
              "      <td>377160</td>\n",
              "      <td>Fallout 4</td>\n",
              "      <td>10</td>\n",
              "    </tr>\n",
              "    <tr>\n",
              "      <th>3</th>\n",
              "      <td>238460</td>\n",
              "      <td>BattleBlock Theater</td>\n",
              "      <td>9</td>\n",
              "    </tr>\n",
              "    <tr>\n",
              "      <th>4</th>\n",
              "      <td>359550</td>\n",
              "      <td>Tom Clancy's Rainbow Six Siege</td>\n",
              "      <td>9</td>\n",
              "    </tr>\n",
              "    <tr>\n",
              "      <th>5</th>\n",
              "      <td>4000</td>\n",
              "      <td>Garry's Mod</td>\n",
              "      <td>9</td>\n",
              "    </tr>\n",
              "    <tr>\n",
              "      <th>6</th>\n",
              "      <td>381210</td>\n",
              "      <td>Dead by Daylight</td>\n",
              "      <td>9</td>\n",
              "    </tr>\n",
              "    <tr>\n",
              "      <th>7</th>\n",
              "      <td>218620</td>\n",
              "      <td>PAYDAY 2</td>\n",
              "      <td>9</td>\n",
              "    </tr>\n",
              "    <tr>\n",
              "      <th>8</th>\n",
              "      <td>292030</td>\n",
              "      <td>The Witcher 3: Wild Hunt</td>\n",
              "      <td>9</td>\n",
              "    </tr>\n",
              "    <tr>\n",
              "      <th>9</th>\n",
              "      <td>489830</td>\n",
              "      <td>The Elder Scrolls V: Skyrim Special Edition</td>\n",
              "      <td>9</td>\n",
              "    </tr>\n",
              "    <tr>\n",
              "      <th>10</th>\n",
              "      <td>219150</td>\n",
              "      <td>Hotline Miami</td>\n",
              "      <td>9</td>\n",
              "    </tr>\n",
              "    <tr>\n",
              "      <th>11</th>\n",
              "      <td>213670</td>\n",
              "      <td>South Park™: The Stick of Truth™</td>\n",
              "      <td>8</td>\n",
              "    </tr>\n",
              "    <tr>\n",
              "      <th>12</th>\n",
              "      <td>239140</td>\n",
              "      <td>Dying Light</td>\n",
              "      <td>8</td>\n",
              "    </tr>\n",
              "    <tr>\n",
              "      <th>13</th>\n",
              "      <td>289070</td>\n",
              "      <td>Sid Meier's Civilization VI</td>\n",
              "      <td>8</td>\n",
              "    </tr>\n",
              "    <tr>\n",
              "      <th>14</th>\n",
              "      <td>427290</td>\n",
              "      <td>Vampyr</td>\n",
              "      <td>8</td>\n",
              "    </tr>\n",
              "    <tr>\n",
              "      <th>15</th>\n",
              "      <td>391220</td>\n",
              "      <td>Rise of the Tomb Raider</td>\n",
              "      <td>8</td>\n",
              "    </tr>\n",
              "    <tr>\n",
              "      <th>16</th>\n",
              "      <td>379430</td>\n",
              "      <td>Kingdom Come: Deliverance</td>\n",
              "      <td>8</td>\n",
              "    </tr>\n",
              "    <tr>\n",
              "      <th>17</th>\n",
              "      <td>322330</td>\n",
              "      <td>Don't Starve Together</td>\n",
              "      <td>8</td>\n",
              "    </tr>\n",
              "    <tr>\n",
              "      <th>18</th>\n",
              "      <td>274190</td>\n",
              "      <td>Broforce</td>\n",
              "      <td>8</td>\n",
              "    </tr>\n",
              "    <tr>\n",
              "      <th>19</th>\n",
              "      <td>55230</td>\n",
              "      <td>Saints Row: The Third</td>\n",
              "      <td>8</td>\n",
              "    </tr>\n",
              "  </tbody>\n",
              "</table>\n",
              "</div>\n",
              "    <div class=\"colab-df-buttons\">\n",
              "\n",
              "  <div class=\"colab-df-container\">\n",
              "    <button class=\"colab-df-convert\" onclick=\"convertToInteractive('df-fb8ab079-2198-4293-84d9-49ccbef27874')\"\n",
              "            title=\"Convert this dataframe to an interactive table.\"\n",
              "            style=\"display:none;\">\n",
              "\n",
              "  <svg xmlns=\"http://www.w3.org/2000/svg\" height=\"24px\" viewBox=\"0 -960 960 960\">\n",
              "    <path d=\"M120-120v-720h720v720H120Zm60-500h600v-160H180v160Zm220 220h160v-160H400v160Zm0 220h160v-160H400v160ZM180-400h160v-160H180v160Zm440 0h160v-160H620v160ZM180-180h160v-160H180v160Zm440 0h160v-160H620v160Z\"/>\n",
              "  </svg>\n",
              "    </button>\n",
              "\n",
              "  <style>\n",
              "    .colab-df-container {\n",
              "      display:flex;\n",
              "      gap: 12px;\n",
              "    }\n",
              "\n",
              "    .colab-df-convert {\n",
              "      background-color: #E8F0FE;\n",
              "      border: none;\n",
              "      border-radius: 50%;\n",
              "      cursor: pointer;\n",
              "      display: none;\n",
              "      fill: #1967D2;\n",
              "      height: 32px;\n",
              "      padding: 0 0 0 0;\n",
              "      width: 32px;\n",
              "    }\n",
              "\n",
              "    .colab-df-convert:hover {\n",
              "      background-color: #E2EBFA;\n",
              "      box-shadow: 0px 1px 2px rgba(60, 64, 67, 0.3), 0px 1px 3px 1px rgba(60, 64, 67, 0.15);\n",
              "      fill: #174EA6;\n",
              "    }\n",
              "\n",
              "    .colab-df-buttons div {\n",
              "      margin-bottom: 4px;\n",
              "    }\n",
              "\n",
              "    [theme=dark] .colab-df-convert {\n",
              "      background-color: #3B4455;\n",
              "      fill: #D2E3FC;\n",
              "    }\n",
              "\n",
              "    [theme=dark] .colab-df-convert:hover {\n",
              "      background-color: #434B5C;\n",
              "      box-shadow: 0px 1px 3px 1px rgba(0, 0, 0, 0.15);\n",
              "      filter: drop-shadow(0px 1px 2px rgba(0, 0, 0, 0.3));\n",
              "      fill: #FFFFFF;\n",
              "    }\n",
              "  </style>\n",
              "\n",
              "    <script>\n",
              "      const buttonEl =\n",
              "        document.querySelector('#df-fb8ab079-2198-4293-84d9-49ccbef27874 button.colab-df-convert');\n",
              "      buttonEl.style.display =\n",
              "        google.colab.kernel.accessAllowed ? 'block' : 'none';\n",
              "\n",
              "      async function convertToInteractive(key) {\n",
              "        const element = document.querySelector('#df-fb8ab079-2198-4293-84d9-49ccbef27874');\n",
              "        const dataTable =\n",
              "          await google.colab.kernel.invokeFunction('convertToInteractive',\n",
              "                                                    [key], {});\n",
              "        if (!dataTable) return;\n",
              "\n",
              "        const docLinkHtml = 'Like what you see? Visit the ' +\n",
              "          '<a target=\"_blank\" href=https://colab.research.google.com/notebooks/data_table.ipynb>data table notebook</a>'\n",
              "          + ' to learn more about interactive tables.';\n",
              "        element.innerHTML = '';\n",
              "        dataTable['output_type'] = 'display_data';\n",
              "        await google.colab.output.renderOutput(dataTable, element);\n",
              "        const docLink = document.createElement('div');\n",
              "        docLink.innerHTML = docLinkHtml;\n",
              "        element.appendChild(docLink);\n",
              "      }\n",
              "    </script>\n",
              "  </div>\n",
              "\n",
              "\n",
              "<div id=\"df-48248d48-19ff-4382-a221-336d7aee1bca\">\n",
              "  <button class=\"colab-df-quickchart\" onclick=\"quickchart('df-48248d48-19ff-4382-a221-336d7aee1bca')\"\n",
              "            title=\"Suggest charts\"\n",
              "            style=\"display:none;\">\n",
              "\n",
              "<svg xmlns=\"http://www.w3.org/2000/svg\" height=\"24px\"viewBox=\"0 0 24 24\"\n",
              "     width=\"24px\">\n",
              "    <g>\n",
              "        <path d=\"M19 3H5c-1.1 0-2 .9-2 2v14c0 1.1.9 2 2 2h14c1.1 0 2-.9 2-2V5c0-1.1-.9-2-2-2zM9 17H7v-7h2v7zm4 0h-2V7h2v10zm4 0h-2v-4h2v4z\"/>\n",
              "    </g>\n",
              "</svg>\n",
              "  </button>\n",
              "\n",
              "<style>\n",
              "  .colab-df-quickchart {\n",
              "      --bg-color: #E8F0FE;\n",
              "      --fill-color: #1967D2;\n",
              "      --hover-bg-color: #E2EBFA;\n",
              "      --hover-fill-color: #174EA6;\n",
              "      --disabled-fill-color: #AAA;\n",
              "      --disabled-bg-color: #DDD;\n",
              "  }\n",
              "\n",
              "  [theme=dark] .colab-df-quickchart {\n",
              "      --bg-color: #3B4455;\n",
              "      --fill-color: #D2E3FC;\n",
              "      --hover-bg-color: #434B5C;\n",
              "      --hover-fill-color: #FFFFFF;\n",
              "      --disabled-bg-color: #3B4455;\n",
              "      --disabled-fill-color: #666;\n",
              "  }\n",
              "\n",
              "  .colab-df-quickchart {\n",
              "    background-color: var(--bg-color);\n",
              "    border: none;\n",
              "    border-radius: 50%;\n",
              "    cursor: pointer;\n",
              "    display: none;\n",
              "    fill: var(--fill-color);\n",
              "    height: 32px;\n",
              "    padding: 0;\n",
              "    width: 32px;\n",
              "  }\n",
              "\n",
              "  .colab-df-quickchart:hover {\n",
              "    background-color: var(--hover-bg-color);\n",
              "    box-shadow: 0 1px 2px rgba(60, 64, 67, 0.3), 0 1px 3px 1px rgba(60, 64, 67, 0.15);\n",
              "    fill: var(--button-hover-fill-color);\n",
              "  }\n",
              "\n",
              "  .colab-df-quickchart-complete:disabled,\n",
              "  .colab-df-quickchart-complete:disabled:hover {\n",
              "    background-color: var(--disabled-bg-color);\n",
              "    fill: var(--disabled-fill-color);\n",
              "    box-shadow: none;\n",
              "  }\n",
              "\n",
              "  .colab-df-spinner {\n",
              "    border: 2px solid var(--fill-color);\n",
              "    border-color: transparent;\n",
              "    border-bottom-color: var(--fill-color);\n",
              "    animation:\n",
              "      spin 1s steps(1) infinite;\n",
              "  }\n",
              "\n",
              "  @keyframes spin {\n",
              "    0% {\n",
              "      border-color: transparent;\n",
              "      border-bottom-color: var(--fill-color);\n",
              "      border-left-color: var(--fill-color);\n",
              "    }\n",
              "    20% {\n",
              "      border-color: transparent;\n",
              "      border-left-color: var(--fill-color);\n",
              "      border-top-color: var(--fill-color);\n",
              "    }\n",
              "    30% {\n",
              "      border-color: transparent;\n",
              "      border-left-color: var(--fill-color);\n",
              "      border-top-color: var(--fill-color);\n",
              "      border-right-color: var(--fill-color);\n",
              "    }\n",
              "    40% {\n",
              "      border-color: transparent;\n",
              "      border-right-color: var(--fill-color);\n",
              "      border-top-color: var(--fill-color);\n",
              "    }\n",
              "    60% {\n",
              "      border-color: transparent;\n",
              "      border-right-color: var(--fill-color);\n",
              "    }\n",
              "    80% {\n",
              "      border-color: transparent;\n",
              "      border-right-color: var(--fill-color);\n",
              "      border-bottom-color: var(--fill-color);\n",
              "    }\n",
              "    90% {\n",
              "      border-color: transparent;\n",
              "      border-bottom-color: var(--fill-color);\n",
              "    }\n",
              "  }\n",
              "</style>\n",
              "\n",
              "  <script>\n",
              "    async function quickchart(key) {\n",
              "      const quickchartButtonEl =\n",
              "        document.querySelector('#' + key + ' button');\n",
              "      quickchartButtonEl.disabled = true;  // To prevent multiple clicks.\n",
              "      quickchartButtonEl.classList.add('colab-df-spinner');\n",
              "      try {\n",
              "        const charts = await google.colab.kernel.invokeFunction(\n",
              "            'suggestCharts', [key], {});\n",
              "      } catch (error) {\n",
              "        console.error('Error during call to suggestCharts:', error);\n",
              "      }\n",
              "      quickchartButtonEl.classList.remove('colab-df-spinner');\n",
              "      quickchartButtonEl.classList.add('colab-df-quickchart-complete');\n",
              "    }\n",
              "    (() => {\n",
              "      let quickchartButtonEl =\n",
              "        document.querySelector('#df-48248d48-19ff-4382-a221-336d7aee1bca button');\n",
              "      quickchartButtonEl.style.display =\n",
              "        google.colab.kernel.accessAllowed ? 'block' : 'none';\n",
              "    })();\n",
              "  </script>\n",
              "</div>\n",
              "\n",
              "  <div id=\"id_0a187858-9d3d-406e-b3de-5c446b3d4605\">\n",
              "    <style>\n",
              "      .colab-df-generate {\n",
              "        background-color: #E8F0FE;\n",
              "        border: none;\n",
              "        border-radius: 50%;\n",
              "        cursor: pointer;\n",
              "        display: none;\n",
              "        fill: #1967D2;\n",
              "        height: 32px;\n",
              "        padding: 0 0 0 0;\n",
              "        width: 32px;\n",
              "      }\n",
              "\n",
              "      .colab-df-generate:hover {\n",
              "        background-color: #E2EBFA;\n",
              "        box-shadow: 0px 1px 2px rgba(60, 64, 67, 0.3), 0px 1px 3px 1px rgba(60, 64, 67, 0.15);\n",
              "        fill: #174EA6;\n",
              "      }\n",
              "\n",
              "      [theme=dark] .colab-df-generate {\n",
              "        background-color: #3B4455;\n",
              "        fill: #D2E3FC;\n",
              "      }\n",
              "\n",
              "      [theme=dark] .colab-df-generate:hover {\n",
              "        background-color: #434B5C;\n",
              "        box-shadow: 0px 1px 3px 1px rgba(0, 0, 0, 0.15);\n",
              "        filter: drop-shadow(0px 1px 2px rgba(0, 0, 0, 0.3));\n",
              "        fill: #FFFFFF;\n",
              "      }\n",
              "    </style>\n",
              "    <button class=\"colab-df-generate\" onclick=\"generateWithVariable('app_review_table')\"\n",
              "            title=\"Generate code using this dataframe.\"\n",
              "            style=\"display:none;\">\n",
              "\n",
              "  <svg xmlns=\"http://www.w3.org/2000/svg\" height=\"24px\"viewBox=\"0 0 24 24\"\n",
              "       width=\"24px\">\n",
              "    <path d=\"M7,19H8.4L18.45,9,17,7.55,7,17.6ZM5,21V16.75L18.45,3.32a2,2,0,0,1,2.83,0l1.4,1.43a1.91,1.91,0,0,1,.58,1.4,1.91,1.91,0,0,1-.58,1.4L9.25,21ZM18.45,9,17,7.55Zm-12,3A5.31,5.31,0,0,0,4.9,8.1,5.31,5.31,0,0,0,1,6.5,5.31,5.31,0,0,0,4.9,4.9,5.31,5.31,0,0,0,6.5,1,5.31,5.31,0,0,0,8.1,4.9,5.31,5.31,0,0,0,12,6.5,5.46,5.46,0,0,0,6.5,12Z\"/>\n",
              "  </svg>\n",
              "    </button>\n",
              "    <script>\n",
              "      (() => {\n",
              "      const buttonEl =\n",
              "        document.querySelector('#id_0a187858-9d3d-406e-b3de-5c446b3d4605 button.colab-df-generate');\n",
              "      buttonEl.style.display =\n",
              "        google.colab.kernel.accessAllowed ? 'block' : 'none';\n",
              "\n",
              "      buttonEl.onclick = () => {\n",
              "        google.colab.notebook.generateWithVariable('app_review_table');\n",
              "      }\n",
              "      })();\n",
              "    </script>\n",
              "  </div>\n",
              "\n",
              "    </div>\n",
              "  </div>\n"
            ],
            "application/vnd.google.colaboratory.intrinsic+json": {
              "type": "dataframe",
              "variable_name": "app_review_table",
              "summary": "{\n  \"name\": \"app_review_table\",\n  \"rows\": 20,\n  \"fields\": [\n    {\n      \"column\": \"app_id\",\n      \"properties\": {\n        \"dtype\": \"number\",\n        \"std\": 119331,\n        \"min\": 4000,\n        \"max\": 489830,\n        \"num_unique_values\": 20,\n        \"samples\": [\n          367520,\n          322330,\n          391220\n        ],\n        \"semantic_type\": \"\",\n        \"description\": \"\"\n      }\n    },\n    {\n      \"column\": \"app_name\",\n      \"properties\": {\n        \"dtype\": \"string\",\n        \"num_unique_values\": 20,\n        \"samples\": [\n          \"Hollow Knight\",\n          \"Don't Starve Together\",\n          \"Rise of the Tomb Raider\"\n        ],\n        \"semantic_type\": \"\",\n        \"description\": \"\"\n      }\n    },\n    {\n      \"column\": \"review_count\",\n      \"properties\": {\n        \"dtype\": \"number\",\n        \"std\": 1,\n        \"min\": 8,\n        \"max\": 14,\n        \"num_unique_values\": 4,\n        \"samples\": [\n          10,\n          8,\n          14\n        ],\n        \"semantic_type\": \"\",\n        \"description\": \"\"\n      }\n    }\n  ]\n}"
            }
          },
          "metadata": {},
          "execution_count": 32
        }
      ]
    },
    {
      "cell_type": "markdown",
      "source": [
        "## [RQ 6]"
      ],
      "metadata": {
        "id": "FPlRTjVSp9fu"
      }
    },
    {
      "cell_type": "markdown",
      "source": [
        "---\n",
        "*Let's investigate the behavior of specific groups, specifically focusing on English and Spanish reviewers*\n",
        "\n",
        "* *Which group is more likely to edit or update their review after submitting it? “English or Spanish!”?*\n",
        "* *Provide the average number of games that reviewers from each group have on their Steam accounts and the average number of games for which they write reviews. What can you say about the number you just calculated?*\n",
        "---"
      ],
      "metadata": {
        "id": "n_6M1EXfqEky"
      }
    },
    {
      "cell_type": "markdown",
      "source": [
        "### Which group is more likely to edit or update their review after submitting it? “English or Spanish!”?"
      ],
      "metadata": {
        "id": "ncNyGfxvIs-u"
      }
    },
    {
      "cell_type": "code",
      "source": [
        "# Filter reviews for English and Spanish languages\n",
        "english_reviews = df_combined[df_combined['language'] == 'english']\n",
        "spanish_reviews = df_combined[df_combined['language'] == 'spanish']\n",
        "\n",
        "# Calculate the percentage of updated reviews for each language\n",
        "english_updated_percentage = (english_reviews['timestamp_updated'] != english_reviews['timestamp_created']).mean()\n",
        "spanish_updated_percentage = (spanish_reviews['timestamp_updated'] != spanish_reviews['timestamp_created']).mean()\n",
        "\n",
        "print(f\"Percentage of updated English reviews: {english_updated_percentage:.2f}%\")\n",
        "print(f\"Percentage of updated Spanish reviews: {spanish_updated_percentage:.2f}%\")\n",
        "\n",
        "# Compare percentage and determine which group is more likely to update reviews\n",
        "if english_updated_percentage > spanish_updated_percentage:\n",
        "    print(\"English reviewers are more likely to update their reviews.\")\n",
        "elif spanish_updated_percentage > english_updated_percentage:\n",
        "    print(\"Spanish reviewers are more likely to update their reviews.\")\n",
        "else:\n",
        "    print(\"Both groups have similar likelihoods of updating their reviews.\")"
      ],
      "metadata": {
        "colab": {
          "base_uri": "https://localhost:8080/"
        },
        "id": "jUA-epiUIxCs",
        "outputId": "fe2e3814-fbde-44b5-8b07-4a55eb0ddeb8"
      },
      "execution_count": 33,
      "outputs": [
        {
          "output_type": "stream",
          "name": "stdout",
          "text": [
            "Percentage of updated English reviews: 0.12%\n",
            "Percentage of updated Spanish reviews: 0.10%\n",
            "English reviewers are more likely to update their reviews.\n"
          ]
        }
      ]
    }
  ]
}